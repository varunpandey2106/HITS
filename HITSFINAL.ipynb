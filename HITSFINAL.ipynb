{
  "nbformat": 4,
  "nbformat_minor": 0,
  "metadata": {
    "colab": {
      "provenance": []
    },
    "kernelspec": {
      "name": "python3",
      "display_name": "Python 3"
    },
    "language_info": {
      "name": "python"
    }
  },
  "cells": [
    {
      "cell_type": "code",
      "execution_count": 4,
      "metadata": {
        "colab": {
          "base_uri": "https://localhost:8080/",
          "height": 354
        },
        "id": "-23J2BUDEIOY",
        "outputId": "481bc59b-1111-4208-d7b8-77c6092d8145"
      },
      "outputs": [
        {
          "output_type": "stream",
          "name": "stdout",
          "text": [
            "Authority Scores:  [0.52272073 0.52272073 0.61162846 0.2818452 ]\n",
            "Hub Scores:  [0.52272073 0.52272073 0.61162846 0.2818452 ]\n"
          ]
        },
        {
          "output_type": "display_data",
          "data": {
            "text/plain": [
              "<Figure size 432x288 with 1 Axes>"
            ],
            "image/png": "[encoded data removed]"
          },
          "metadata": {}
        }
      ],
      "source": [
        "import networkx as nx\n",
        "import numpy as np\n",
        "\n",
        "def hits_algorithm(adj_matrix, max_iter=100):\n",
        "    \"\"\"\n",
        "    This function implements the HITS algorithm on the given adjacency matrix.\n",
        "    The algorithm returns two lists: authority scores and hub scores.\n",
        "    \"\"\"\n",
        "    n = adj_matrix.shape[0]\n",
        "    a_scores = np.ones(n)\n",
        "    h_scores = np.ones(n)\n",
        "    \n",
        "    for _ in range(max_iter):\n",
        "        # update hub scores\n",
        "        a_scores = np.dot(adj_matrix, h_scores)\n",
        "        # update authority scores\n",
        "        h_scores = np.dot(adj_matrix.T, a_scores)\n",
        "        # normalize scores\n",
        "        a_scores = a_scores / np.linalg.norm(a_scores)\n",
        "        h_scores = h_scores / np.linalg.norm(h_scores)\n",
        "    \n",
        "    return a_scores, h_scores\n",
        "\n",
        "# Generate a networkx graph\n",
        "G = nx.Graph()\n",
        "G.add_nodes_from([1, 2, 3, 4])\n",
        "G.add_edges_from([(1, 2), (1, 3), (2, 3), (3, 4)])\n",
        "\n",
        "# Generate an adjacency matrix from the networkx graph\n",
        "adj_matrix = nx.adjacency_matrix(G).toarray()\n",
        "\n",
        "# Run the HITS algorithm on the adjacency matrix\n",
        "a_scores, h_scores = hits_algorithm(adj_matrix)\n",
        "\n",
        "# Print the results\n",
        "print(\"Authority Scores: \", a_scores)\n",
        "print(\"Hub Scores: \", h_scores)\n",
        "\n",
        "import networkx as nx\n",
        "import matplotlib.pyplot as plt\n",
        "\n",
        "# Create a graph with 4 nodes and 4 edges\n",
        "G = nx.Graph()\n",
        "G.add_nodes_from([1, 2, 3, 4])\n",
        "G.add_edges_from([(1, 2), (1, 3), (2, 3), (3, 4)])\n",
        "\n",
        "# Draw the graph\n",
        "nx.draw(G, with_labels=True)\n",
        "plt.show()\n",
        "\n",
        "\n"
      ]
    }
  ]
}